{
 "cells": [
  {
   "cell_type": "code",
   "execution_count": null,
   "metadata": {
    "scrolled": true
   },
   "outputs": [
    {
     "name": "stdout",
     "output_type": "stream",
     "text": [
      "cuda:0\n"
     ]
    }
   ],
   "source": [
    "import datetime\n",
    "import os\n",
    "import random\n",
    "\n",
    "import matplotlib.pyplot as plt\n",
    "import numpy as np\n",
    "import torch\n",
    "import torchvision.transforms as T\n",
    "from einops import rearrange\n",
    "from sklearn.decomposition import PCA\n",
    "from sklearn.manifold import TSNE\n",
    "from src.dataset import S1GRD_MEAN, S1GRD_STD, S2L1C_MEAN, S2L1C_STD, S2L2A_MEAN, S2L2A_STD, E2SChallengeDataset\n",
    "from src.submit import create_submission_from_dict, validate_submission\n",
    "from torchgeo.models import RCF\n",
    "from tqdm import tqdm\n",
    "\n",
    "if torch.cuda.is_available():\n",
    "    device = torch.device(\"cuda:0\")\n",
    "elif torch.mps.is_available():\n",
    "    device = torch.device(\"mps\")\n",
    "\n",
    "seed = 10012023\n",
    "random.seed(seed)\n",
    "np.random.seed(seed)\n",
    "torch.manual_seed(seed)\n",
    "torch.cuda.manual_seed(seed)\n",
    "torch.backends.cudnn.deterministic = True\n",
    "torch.backends.cudnn.benchmark = False\n",
    "\n",
    "\n",
    "print(device)"
   ]
  },
  {
   "cell_type": "markdown",
   "metadata": {},
   "source": [
    "### Compress"
   ]
  },
  {
   "cell_type": "code",
   "execution_count": 2,
   "metadata": {},
   "outputs": [
    {
     "data": {
      "text/plain": [
       "8111"
      ]
     },
     "execution_count": 2,
     "metadata": {},
     "output_type": "execute_result"
    }
   ],
   "source": [
    "modalities = [\"s1\", \"s2l1c\", \"s2l2a\"]\n",
    "mean = S1GRD_MEAN + S2L1C_MEAN + S2L2A_MEAN\n",
    "std = S1GRD_STD + S2L1C_STD + S2L2A_STD\n",
    "\n",
    "transforms = T.Compose([T.Normalize(mean=mean, std=std)])\n",
    "\n",
    "root = \"/data/data_eval/data_eval/\"\n",
    "\n",
    "dataset = E2SChallengeDataset(\n",
    "    root, modalities=modalities, dataset_name=\"bands\", transform=transforms, concat=True, output_file_name=True\n",
    ")\n",
    "len(dataset)"
   ]
  },
  {
   "cell_type": "code",
   "execution_count": 5,
   "metadata": {},
   "outputs": [
    {
     "data": {
      "text/plain": [
       "(dict_keys(['data', 'file_name']),\n",
       " torch.Size([1, 4, 27, 264, 264]),\n",
       " '8f3287a462a96da37b5b7e2e2a92dd94a28123251fa81a4b549f25079d0b7460')"
      ]
     },
     "execution_count": 5,
     "metadata": {},
     "output_type": "execute_result"
    }
   ],
   "source": [
    "dataset[0].keys(), dataset[0][\"data\"].shape, dataset[0][\"file_name\"]"
   ]
  },
  {
   "cell_type": "code",
   "execution_count": 6,
   "metadata": {},
   "outputs": [
    {
     "data": {
      "text/plain": [
       "8111"
      ]
     },
     "execution_count": 6,
     "metadata": {},
     "output_type": "execute_result"
    }
   ],
   "source": [
    "# need to create custom dataset for RCF to perform ZCA whitening on the dataset\n",
    "class MOSAIKSE2SDataset(E2SChallengeDataset):\n",
    "    def __init__(self, *args, **kwargs):\n",
    "        super().__init__(*args, **kwargs)\n",
    "\n",
    "    def __getitem__(self, idx):\n",
    "        sample = super().__getitem__(idx)\n",
    "        t = torch.randint(low=0, high=4, size=(1,)).item()\n",
    "        sample = sample[0, t]\n",
    "        return dict(image=sample)\n",
    "\n",
    "\n",
    "empirical_dataset = MOSAIKSE2SDataset(\n",
    "    root, modalities=modalities, dataset_name=\"bands\", transform=transforms, concat=True, output_file_name=False\n",
    ")\n",
    "len(empirical_dataset)"
   ]
  },
  {
   "cell_type": "code",
   "execution_count": 7,
   "metadata": {},
   "outputs": [
    {
     "data": {
      "text/plain": [
       "torch.Size([27, 264, 264])"
      ]
     },
     "execution_count": 7,
     "metadata": {},
     "output_type": "execute_result"
    }
   ],
   "source": [
    "empirical_dataset[0][\"image\"].shape"
   ]
  },
  {
   "cell_type": "code",
   "execution_count": 8,
   "metadata": {},
   "outputs": [],
   "source": [
    "model = RCF(\n",
    "    in_channels=27, features=4096, kernel_size=3, bias=-1.0, seed=seed, mode=\"empirical\", dataset=empirical_dataset\n",
    ")\n",
    "model.eval()\n",
    "model = model.to(device)"
   ]
  },
  {
   "cell_type": "code",
   "execution_count": 9,
   "metadata": {},
   "outputs": [
    {
     "name": "stderr",
     "output_type": "stream",
     "text": [
      "100%|██████████| 8111/8111 [19:48<00:00,  6.82it/s]\n"
     ]
    }
   ],
   "source": [
    "tmp_dir = \"tmp_embeddings_10012023\"\n",
    "os.makedirs(tmp_dir, exist_ok=True)\n",
    "\n",
    "filenames = []\n",
    "\n",
    "with torch.inference_mode():\n",
    "    for idx in tqdm(range(len(dataset))):\n",
    "        sample = dataset[idx]\n",
    "        x = sample[\"data\"]\n",
    "        b, t, c, h, w = x.shape\n",
    "        x = rearrange(x, \"b t c h w -> (b t) c h w\")\n",
    "        x = x.to(device)\n",
    "        emb = model(x)\n",
    "        emb = rearrange(emb, \"(b t) c -> b t c\", b=b, t=t)\n",
    "        emb = emb.detach().cpu().numpy()\n",
    "\n",
    "        np.save(os.path.join(tmp_dir, f\"{idx}.npy\"), emb)\n",
    "        filenames.append(sample[\"file_name\"])\n",
    "\n",
    "# Load and concatenate after loop (safer)\n",
    "embeddings = [np.load(os.path.join(tmp_dir, f\"{i}.npy\")) for i in range(len(filenames))]\n",
    "embeddings = np.concatenate(embeddings, axis=0)\n",
    "\n",
    "# Save in same format as original code\n",
    "np.savez(\"mosaik-embeddings_4096_3x3_seed_10012023.npz\", embeddings=embeddings, filenames=filenames)"
   ]
  },
  {
   "cell_type": "code",
   "execution_count": 10,
   "metadata": {},
   "outputs": [
    {
     "data": {
      "text/plain": [
       "((8111, 4, 4096), 8111)"
      ]
     },
     "execution_count": 10,
     "metadata": {},
     "output_type": "execute_result"
    }
   ],
   "source": [
    "embeddings.shape, len(filenames)"
   ]
  },
  {
   "cell_type": "markdown",
   "metadata": {},
   "source": [
    "output = f\"mosaik-embeddings_4096_3x3_seed_10012023.npz\"\n",
    "data = dict(embeddings=embeddings, filenames=filenames)\n",
    "np.savez(output, **data)"
   ]
  },
  {
   "cell_type": "markdown",
   "metadata": {},
   "source": [
    "### Load the MOSAIKS-ed embedding"
   ]
  },
  {
   "cell_type": "markdown",
   "metadata": {},
   "source": [
    "#### Test Embedding"
   ]
  },
  {
   "cell_type": "code",
   "execution_count": 11,
   "metadata": {
    "scrolled": true
   },
   "outputs": [
    {
     "data": {
      "text/plain": [
       "((8111, 4, 4096), dtype('float32'), 8111)"
      ]
     },
     "execution_count": 11,
     "metadata": {},
     "output_type": "execute_result"
    }
   ],
   "source": [
    "data_test = np.load(\"mosaik-embeddings_4096_3x3_seed_10012023.npz\")\n",
    "\n",
    "embeddings_test = data_test[\"embeddings\"]\n",
    "filenames_test = data_test[\"filenames\"]\n",
    "\n",
    "embeddings_test.shape, embeddings_test.dtype, len(filenames_test)"
   ]
  },
  {
   "cell_type": "markdown",
   "metadata": {},
   "source": [
    "Mean pooling over temporal dim"
   ]
  },
  {
   "cell_type": "code",
   "execution_count": 14,
   "metadata": {
    "scrolled": true
   },
   "outputs": [
    {
     "data": {
      "text/plain": [
       "((8111, 4096), 'Rank=372')"
      ]
     },
     "execution_count": 14,
     "metadata": {},
     "output_type": "execute_result"
    }
   ],
   "source": [
    "embeddings_test = np.mean(embeddings_test, axis=1)\n",
    "\n",
    "embeddings_test.shape, f\"Rank={int(np.linalg.matrix_rank(embeddings_test))}\""
   ]
  },
  {
   "cell_type": "markdown",
   "metadata": {},
   "source": [
    "#### Dev Embedding -- but test for now -- only to see if the embeddings are the same"
   ]
  },
  {
   "cell_type": "code",
   "execution_count": null,
   "metadata": {},
   "outputs": [],
   "source": [
    "data_dev = np.load(\n",
    "    \"mosaik-embeddings_4096_3x3_seed0_test_submission_justtobesure_v3_seed0sameasv1and2_butalsoglobalseeded.npz\"\n",
    ")\n",
    "# data_dev = np.load(f\"mosaik-embeddings_4096.npz\")\n",
    "\n",
    "embeddings_dev = data_dev[\"embeddings\"]\n",
    "filenames_dev = data_dev[\"filenames\"]\n",
    "\n",
    "embeddings_dev.shape, embeddings_dev.dtype, len(filenames_dev)"
   ]
  },
  {
   "cell_type": "code",
   "execution_count": null,
   "metadata": {},
   "outputs": [],
   "source": [
    "embeddings_dev = np.mean(embeddings_dev, axis=1)\n",
    "\n",
    "embeddings_dev.shape, f\"Rank={int(np.linalg.matrix_rank(embeddings_dev))}\""
   ]
  },
  {
   "cell_type": "code",
   "execution_count": null,
   "metadata": {},
   "outputs": [],
   "source": [
    "# Fit PCA on dev\n",
    "pca = PCA(n_components=1024, random_state=42)\n",
    "embeddings_dev_pca = pca.fit_transform(embeddings_dev)\n",
    "\n",
    "# Apply PCA to test\n",
    "embeddings_test_pca = pca.transform(embeddings_test)\n",
    "\n",
    "# Explained variance\n",
    "explained_var_dev = np.sum(pca.explained_variance_ratio_)\n",
    "explained_var_test = np.var(embeddings_test_pca) / np.var(embeddings_test)\n",
    "print(f\"Explained Variance - Dev:  {explained_var_dev:.4f}\")\n",
    "print(f\"Explained Variance - Test: {explained_var_test:.4f}\")\n",
    "\n",
    "# Check first 5 PCA component stats\n",
    "print(\"\\nFirst 5 PCA components mean/var:\")\n",
    "for i in range(5):\n",
    "    d_mean, d_var = embeddings_dev_pca[:, i].mean(), embeddings_dev_pca[:, i].var()\n",
    "    t_mean, t_var = embeddings_test_pca[:, i].mean(), embeddings_test_pca[:, i].var()\n",
    "    print(f\"PC{i + 1}: Dev {d_mean:.4f}/{d_var:.4f} | Test {t_mean:.4f}/{t_var:.4f}\")\n",
    "\n",
    "# Optional: t-SNE visualization\n",
    "tsne = TSNE(n_components=2, random_state=42, perplexity=30)\n",
    "combined = np.vstack([embeddings_dev_pca, embeddings_test_pca])\n",
    "tsne_proj = tsne.fit_transform(combined)\n",
    "tsne_dev = tsne_proj[: len(embeddings_dev_pca)]\n",
    "tsne_test = tsne_proj[len(embeddings_dev_pca) :]\n",
    "\n",
    "plt.figure(figsize=(8, 6))\n",
    "plt.scatter(tsne_dev[:, 0], tsne_dev[:, 1], s=5, label=\"Dev\", alpha=0.5)\n",
    "plt.scatter(tsne_test[:, 0], tsne_test[:, 1], s=5, label=\"Test\", alpha=0.5)\n",
    "plt.legend()\n",
    "plt.title(\"t-SNE of PCA outputs (Dev vs Test)\")\n",
    "plt.show()"
   ]
  },
  {
   "cell_type": "markdown",
   "metadata": {},
   "source": [
    "Explained Variance for both embeddings"
   ]
  },
  {
   "cell_type": "code",
   "execution_count": null,
   "metadata": {},
   "outputs": [],
   "source": [
    "# Absolute PCA scores\n",
    "abs_test_scores = np.abs(embeddings_test_pca)\n",
    "abs_dev_scores = np.abs(embeddings_dev_pca)\n",
    "\n",
    "# Top contributing PC for each sample\n",
    "test_top_pc = np.argmax(abs_test_scores, axis=1)\n",
    "dev_top_pc = np.argmax(abs_dev_scores, axis=1)\n",
    "\n",
    "# Plot histograms of top contributing PCs\n",
    "plt.hist(test_top_pc, bins=50, alpha=0.6, label=\"Test\", density=True)\n",
    "plt.hist(dev_top_pc, bins=50, alpha=0.6, label=\"Dev\", density=True)\n",
    "plt.xlabel(\"Top contributing PC index\")\n",
    "plt.ylabel(\"Density\")\n",
    "plt.title(\"Most Influential PC per Embedding\")\n",
    "plt.legend()\n",
    "plt.grid()\n",
    "plt.show()"
   ]
  },
  {
   "cell_type": "code",
   "execution_count": null,
   "metadata": {},
   "outputs": [],
   "source": [
    "test_ranks = np.argsort(-abs_test_scores, axis=1)[:5]\n",
    "dev_ranks = np.argsort(-abs_dev_scores, axis=1)[:5]\n",
    "\n",
    "print(\"Test Embeddings - Top 5 PCs by contribution:\")\n",
    "print(test_ranks)\n",
    "\n",
    "print(\"\\nDev Embeddings - Top 5 PCs by contribution:\")\n",
    "print(dev_ranks)"
   ]
  },
  {
   "cell_type": "code",
   "execution_count": null,
   "metadata": {},
   "outputs": [],
   "source": [
    "pc_var_test = embeddings_test_pca.var(axis=0)\n",
    "pc_var_dev = embeddings_dev_pca.var(axis=0)\n",
    "\n",
    "plt.plot(pc_var_test[:50], label=\"Test\")\n",
    "plt.plot(pc_var_dev[:50], label=\"Dev\")\n",
    "plt.xlabel(\"PC index\")\n",
    "plt.ylabel(\"Variance\")\n",
    "plt.title(\"Variance per PC (First 50 PCs)\")\n",
    "plt.legend()\n",
    "plt.grid()\n",
    "plt.show()"
   ]
  },
  {
   "cell_type": "code",
   "execution_count": null,
   "metadata": {},
   "outputs": [],
   "source": [
    "import numpy as np\n",
    "\n",
    "\n",
    "def kl_divergence_gaussian(mu_p, std_p, mu_q, std_q):\n",
    "    return np.log(std_q / std_p) + (std_p**2 + (mu_p - mu_q) ** 2) / (2 * std_q**2) - 0.5\n",
    "\n",
    "\n",
    "# Compute means and stds per PC\n",
    "mu_test = embeddings_test_pca.mean(axis=0)\n",
    "std_test = embeddings_test_pca.std(axis=0)\n",
    "mu_dev = embeddings_dev_pca.mean(axis=0)\n",
    "std_dev = embeddings_dev_pca.std(axis=0)\n",
    "\n",
    "# Add small epsilon to avoid division by zero\n",
    "eps = 1e-6\n",
    "std_test = np.maximum(std_test, eps)\n",
    "std_dev = np.maximum(std_dev, eps)\n",
    "\n",
    "# KL divergence for each PC\n",
    "kl_per_pc = kl_divergence_gaussian(mu_test, std_test, mu_dev, std_dev)\n",
    "\n",
    "# Plot top PCs with highest KL\n",
    "top_k = 50\n",
    "sorted_idx = np.argsort(-kl_per_pc[:top_k])\n",
    "\n",
    "plt.bar(range(top_k), kl_per_pc[sorted_idx])\n",
    "plt.xticks(range(top_k), sorted_idx, rotation=90)\n",
    "plt.xlabel(\"PC Index\")\n",
    "plt.ylabel(\"KL Divergence\")\n",
    "plt.title(f\"KL Divergence per PC (Top {top_k})\")\n",
    "plt.grid()\n",
    "plt.tight_layout()\n",
    "plt.show()\n",
    "\n",
    "# Print top PCs with highest KL\n",
    "print(\"Top 10 PCs with highest KL divergence:\")\n",
    "for i in sorted_idx[:10]:\n",
    "    print(f\"PC{i}: KL = {kl_per_pc[i]:.5f}\")"
   ]
  },
  {
   "cell_type": "code",
   "execution_count": null,
   "metadata": {},
   "outputs": [],
   "source": [
    "# Combined scatter plot of PC1 vs PC2\n",
    "plt.figure(figsize=(6, 5))\n",
    "plt.scatter(embeddings_test_pca[:, 0], embeddings_test_pca[:, 1], s=5, alpha=0.5, label=\"Test\", color=\"blue\")\n",
    "plt.scatter(embeddings_dev_pca[:, 0], embeddings_dev_pca[:, 1], s=5, alpha=0.5, label=\"Dev\", color=\"orange\")\n",
    "plt.xlabel(\"PC 1\")\n",
    "plt.ylabel(\"PC 2\")\n",
    "plt.title(\"PC1 vs PC2: Test vs Dev\")\n",
    "plt.legend()\n",
    "plt.grid()\n",
    "plt.show()"
   ]
  },
  {
   "cell_type": "code",
   "execution_count": null,
   "metadata": {},
   "outputs": [],
   "source": [
    "# Explained variance comparison\n",
    "# Compute PCA separately on each set to compare their own variance structure\n",
    "pca_test = PCA(n_components=50)\n",
    "pca_dev = PCA(n_components=50)\n",
    "\n",
    "pca_test.fit(embeddings_test)\n",
    "pca_dev.fit(embeddings_dev)\n",
    "\n",
    "var_test = pca_test.explained_variance_ratio_\n",
    "var_dev = pca_dev.explained_variance_ratio_\n",
    "\n",
    "# Plot\n",
    "plt.figure(figsize=(7, 5))\n",
    "plt.plot(var_test, label=\"Test\")\n",
    "plt.plot(var_dev, label=\"Dev\")\n",
    "plt.xlabel(\"PC Index\")\n",
    "plt.ylabel(\"Explained Variance Ratio\")\n",
    "plt.title(\"Explained Variance per PC (First 50 PCs)\")\n",
    "plt.legend()\n",
    "plt.grid()\n",
    "plt.tight_layout()\n",
    "plt.show()"
   ]
  },
  {
   "cell_type": "markdown",
   "metadata": {},
   "source": [
    "#### Go ahead with submission"
   ]
  },
  {
   "cell_type": "markdown",
   "metadata": {},
   "source": [
    "PCA 4096 --> 1024"
   ]
  },
  {
   "cell_type": "code",
   "execution_count": 15,
   "metadata": {},
   "outputs": [],
   "source": [
    "filenames = filenames_test\n",
    "embeddings = embeddings_test"
   ]
  },
  {
   "cell_type": "code",
   "execution_count": 16,
   "metadata": {},
   "outputs": [
    {
     "data": {
      "text/plain": [
       "(8111, 1024)"
      ]
     },
     "execution_count": 16,
     "metadata": {},
     "output_type": "execute_result"
    }
   ],
   "source": [
    "pca = PCA(n_components=1024, random_state=seed)\n",
    "compressed = pca.fit_transform(embeddings)\n",
    "embeddings = compressed\n",
    "embeddings.shape"
   ]
  },
  {
   "cell_type": "markdown",
   "metadata": {},
   "source": [
    "### Create submission"
   ]
  },
  {
   "cell_type": "code",
   "execution_count": 17,
   "metadata": {},
   "outputs": [
    {
     "name": "stdout",
     "output_type": "stream",
     "text": [
      "Number of embeddings: 8111\n"
     ]
    },
    {
     "data": {
      "text/html": [
       "<div>\n",
       "<style scoped>\n",
       "    .dataframe tbody tr th:only-of-type {\n",
       "        vertical-align: middle;\n",
       "    }\n",
       "\n",
       "    .dataframe tbody tr th {\n",
       "        vertical-align: top;\n",
       "    }\n",
       "\n",
       "    .dataframe thead th {\n",
       "        text-align: right;\n",
       "    }\n",
       "</style>\n",
       "<table border=\"1\" class=\"dataframe\">\n",
       "  <thead>\n",
       "    <tr style=\"text-align: right;\">\n",
       "      <th></th>\n",
       "      <th>id</th>\n",
       "      <th>0</th>\n",
       "      <th>1</th>\n",
       "      <th>2</th>\n",
       "      <th>3</th>\n",
       "      <th>4</th>\n",
       "      <th>5</th>\n",
       "      <th>6</th>\n",
       "      <th>7</th>\n",
       "      <th>8</th>\n",
       "      <th>...</th>\n",
       "      <th>1014</th>\n",
       "      <th>1015</th>\n",
       "      <th>1016</th>\n",
       "      <th>1017</th>\n",
       "      <th>1018</th>\n",
       "      <th>1019</th>\n",
       "      <th>1020</th>\n",
       "      <th>1021</th>\n",
       "      <th>1022</th>\n",
       "      <th>1023</th>\n",
       "    </tr>\n",
       "  </thead>\n",
       "  <tbody>\n",
       "    <tr>\n",
       "      <th>0</th>\n",
       "      <td>8f3287a462a96da37b5b7e2e2a92dd94a28123251fa81a...</td>\n",
       "      <td>-214.474792</td>\n",
       "      <td>24.645157</td>\n",
       "      <td>245.912201</td>\n",
       "      <td>-35.895252</td>\n",
       "      <td>55.638908</td>\n",
       "      <td>-178.627808</td>\n",
       "      <td>-141.998062</td>\n",
       "      <td>-4.258297</td>\n",
       "      <td>-7.816849</td>\n",
       "      <td>...</td>\n",
       "      <td>-0.160565</td>\n",
       "      <td>0.378877</td>\n",
       "      <td>0.008854</td>\n",
       "      <td>-0.101823</td>\n",
       "      <td>-0.071167</td>\n",
       "      <td>0.129678</td>\n",
       "      <td>-0.239169</td>\n",
       "      <td>-0.009011</td>\n",
       "      <td>-0.009456</td>\n",
       "      <td>0.077354</td>\n",
       "    </tr>\n",
       "    <tr>\n",
       "      <th>1</th>\n",
       "      <td>656de524710233dbe0360f1317de7ea0551779599c33d8...</td>\n",
       "      <td>-307.475311</td>\n",
       "      <td>-116.031952</td>\n",
       "      <td>-5.405784</td>\n",
       "      <td>68.430809</td>\n",
       "      <td>-32.713799</td>\n",
       "      <td>-401.357605</td>\n",
       "      <td>202.659866</td>\n",
       "      <td>-157.131638</td>\n",
       "      <td>90.226646</td>\n",
       "      <td>...</td>\n",
       "      <td>0.061839</td>\n",
       "      <td>-0.093697</td>\n",
       "      <td>0.071291</td>\n",
       "      <td>0.100546</td>\n",
       "      <td>0.102545</td>\n",
       "      <td>-0.271798</td>\n",
       "      <td>-0.160761</td>\n",
       "      <td>-0.081420</td>\n",
       "      <td>0.005467</td>\n",
       "      <td>0.035779</td>\n",
       "    </tr>\n",
       "    <tr>\n",
       "      <th>2</th>\n",
       "      <td>6d3ec7e953f307f741d335fcf6d71667ed11ae87e16f59...</td>\n",
       "      <td>-333.217194</td>\n",
       "      <td>-270.502472</td>\n",
       "      <td>28.059067</td>\n",
       "      <td>-64.826454</td>\n",
       "      <td>57.852196</td>\n",
       "      <td>-70.070358</td>\n",
       "      <td>-48.072166</td>\n",
       "      <td>117.565437</td>\n",
       "      <td>63.463100</td>\n",
       "      <td>...</td>\n",
       "      <td>0.020282</td>\n",
       "      <td>-0.080376</td>\n",
       "      <td>-0.056329</td>\n",
       "      <td>0.061448</td>\n",
       "      <td>-0.091161</td>\n",
       "      <td>-0.171986</td>\n",
       "      <td>0.172369</td>\n",
       "      <td>-0.078218</td>\n",
       "      <td>0.154074</td>\n",
       "      <td>0.050406</td>\n",
       "    </tr>\n",
       "    <tr>\n",
       "      <th>3</th>\n",
       "      <td>806bd4494d4b8cb3ffb82dfbfe7c755f314723ccd3194c...</td>\n",
       "      <td>99.931389</td>\n",
       "      <td>91.669434</td>\n",
       "      <td>-7.907872</td>\n",
       "      <td>337.314789</td>\n",
       "      <td>15.303823</td>\n",
       "      <td>-253.382416</td>\n",
       "      <td>-297.459961</td>\n",
       "      <td>118.035797</td>\n",
       "      <td>124.275223</td>\n",
       "      <td>...</td>\n",
       "      <td>-0.108617</td>\n",
       "      <td>-0.398720</td>\n",
       "      <td>0.386885</td>\n",
       "      <td>-0.217956</td>\n",
       "      <td>-0.053034</td>\n",
       "      <td>0.294437</td>\n",
       "      <td>0.255101</td>\n",
       "      <td>-0.262474</td>\n",
       "      <td>-0.748182</td>\n",
       "      <td>0.199978</td>\n",
       "    </tr>\n",
       "    <tr>\n",
       "      <th>4</th>\n",
       "      <td>57f76ad8c83649d1367d04387da42ae9f3529047c8407d...</td>\n",
       "      <td>3910.951172</td>\n",
       "      <td>-361.237610</td>\n",
       "      <td>27.700787</td>\n",
       "      <td>-175.410797</td>\n",
       "      <td>-579.450439</td>\n",
       "      <td>233.798370</td>\n",
       "      <td>-117.907013</td>\n",
       "      <td>-5.358448</td>\n",
       "      <td>-37.172401</td>\n",
       "      <td>...</td>\n",
       "      <td>-0.074196</td>\n",
       "      <td>-0.157307</td>\n",
       "      <td>-0.008545</td>\n",
       "      <td>-0.656596</td>\n",
       "      <td>-0.721653</td>\n",
       "      <td>-0.426497</td>\n",
       "      <td>-0.437804</td>\n",
       "      <td>1.263510</td>\n",
       "      <td>-1.358840</td>\n",
       "      <td>-0.027554</td>\n",
       "    </tr>\n",
       "  </tbody>\n",
       "</table>\n",
       "<p>5 rows × 1025 columns</p>\n",
       "</div>"
      ],
      "text/plain": [
       "                                                  id            0           1  \\\n",
       "0  8f3287a462a96da37b5b7e2e2a92dd94a28123251fa81a...  -214.474792   24.645157   \n",
       "1  656de524710233dbe0360f1317de7ea0551779599c33d8...  -307.475311 -116.031952   \n",
       "2  6d3ec7e953f307f741d335fcf6d71667ed11ae87e16f59...  -333.217194 -270.502472   \n",
       "3  806bd4494d4b8cb3ffb82dfbfe7c755f314723ccd3194c...    99.931389   91.669434   \n",
       "4  57f76ad8c83649d1367d04387da42ae9f3529047c8407d...  3910.951172 -361.237610   \n",
       "\n",
       "            2           3           4           5           6           7  \\\n",
       "0  245.912201  -35.895252   55.638908 -178.627808 -141.998062   -4.258297   \n",
       "1   -5.405784   68.430809  -32.713799 -401.357605  202.659866 -157.131638   \n",
       "2   28.059067  -64.826454   57.852196  -70.070358  -48.072166  117.565437   \n",
       "3   -7.907872  337.314789   15.303823 -253.382416 -297.459961  118.035797   \n",
       "4   27.700787 -175.410797 -579.450439  233.798370 -117.907013   -5.358448   \n",
       "\n",
       "            8  ...      1014      1015      1016      1017      1018  \\\n",
       "0   -7.816849  ... -0.160565  0.378877  0.008854 -0.101823 -0.071167   \n",
       "1   90.226646  ...  0.061839 -0.093697  0.071291  0.100546  0.102545   \n",
       "2   63.463100  ...  0.020282 -0.080376 -0.056329  0.061448 -0.091161   \n",
       "3  124.275223  ... -0.108617 -0.398720  0.386885 -0.217956 -0.053034   \n",
       "4  -37.172401  ... -0.074196 -0.157307 -0.008545 -0.656596 -0.721653   \n",
       "\n",
       "       1019      1020      1021      1022      1023  \n",
       "0  0.129678 -0.239169 -0.009011 -0.009456  0.077354  \n",
       "1 -0.271798 -0.160761 -0.081420  0.005467  0.035779  \n",
       "2 -0.171986  0.172369 -0.078218  0.154074  0.050406  \n",
       "3  0.294437  0.255101 -0.262474 -0.748182  0.199978  \n",
       "4 -0.426497 -0.437804  1.263510 -1.358840 -0.027554  \n",
       "\n",
       "[5 rows x 1025 columns]"
      ]
     },
     "execution_count": 17,
     "metadata": {},
     "output_type": "execute_result"
    }
   ],
   "source": [
    "embedding_dict = {fname: emb for fname, emb in zip(filenames, embeddings, strict=False)}\n",
    "submission_file = create_submission_from_dict(embedding_dict)\n",
    "print(\"Number of embeddings:\", len(submission_file))\n",
    "submission_file.head()"
   ]
  },
  {
   "cell_type": "code",
   "execution_count": 18,
   "metadata": {},
   "outputs": [],
   "source": [
    "timestamp = datetime.datetime.now().strftime(\"%Y%m%d_%H%M%S\")\n",
    "path_to_output_file = f\"./submission_{timestamp}.csv\"\n",
    "# path_to_output_file = f\"/data/submission_{timestamp}.csv\"\n",
    "submission_file.to_csv(path_to_output_file, index=False)\n",
    "embedding_ids = set(embedding_dict.keys())\n",
    "embedding_dim = 1024\n",
    "assert validate_submission(path_to_output_file, embedding_ids, embedding_dim)"
   ]
  }
 ],
 "metadata": {
  "kernelspec": {
   "display_name": "torchgeo",
   "language": "python",
   "name": "python3"
  },
  "language_info": {
   "codemirror_mode": {
    "name": "ipython",
    "version": 3
   },
   "file_extension": ".py",
   "mimetype": "text/x-python",
   "name": "python",
   "nbconvert_exporter": "python",
   "pygments_lexer": "ipython3",
   "version": "3.11.11"
  }
 },
 "nbformat": 4,
 "nbformat_minor": 4
}
